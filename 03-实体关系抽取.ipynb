{
 "cells": [
  {
   "cell_type": "markdown",
   "metadata": {
    "collapsed": false
   },
   "source": [
    "# 作业\n",
    "\n",
    "- 补全程序中的代码，理解其含义，并跑通整个项目；\n",
    "- 报名参加[千言数据集：信息抽取比赛](https://aistudio.baidu.com/aistudio/competition/detail/46)。"
   ]
  },
  {
   "cell_type": "markdown",
   "metadata": {
    "collapsed": false
   },
   "source": [
    "# 基于预训练模型完成实体关系抽取\n",
    "\n",
    "信息抽取旨在从非结构化自然语言文本中提取结构化知识，如实体、关系、事件等。对于给定的自然语言句子，根据预先定义的schema集合，抽取出所有满足schema约束的SPO三元组。\n",
    "\n",
    "例如，「妻子」关系的schema定义为：      \n",
    "{      \n",
    "    S_TYPE: 人物,        \n",
    "    P: 妻子,      \n",
    "    O_TYPE: {      \n",
    "        @value: 人物       \n",
    "    }       \n",
    "}        \n",
    "\n",
    "该示例展示了如何使用PaddleNLP快速完成实体关系抽取，参与[千言信息抽取-关系抽取比赛](https://aistudio.baidu.com/aistudio/competition/detail/46)打榜。\n",
    "\n",
    "\n"
   ]
  },
  {
   "cell_type": "code",
   "execution_count": 1,
   "metadata": {
    "collapsed": false
   },
   "outputs": [
    {
     "name": "stdout",
     "output_type": "stream",
     "text": [
      "Looking in indexes: https://mirror.baidu.com/pypi/simple/\n",
      "Requirement already up-to-date: paddlenlp in /opt/conda/envs/python35-paddle120-env/lib/python3.7/site-packages (2.0.2)\n",
      "Requirement already satisfied, skipping upgrade: jieba in /opt/conda/envs/python35-paddle120-env/lib/python3.7/site-packages (from paddlenlp) (0.42.1)\n",
      "Requirement already satisfied, skipping upgrade: multiprocess in /opt/conda/envs/python35-paddle120-env/lib/python3.7/site-packages (from paddlenlp) (0.70.11.1)\n",
      "Requirement already satisfied, skipping upgrade: colorama in /opt/conda/envs/python35-paddle120-env/lib/python3.7/site-packages (from paddlenlp) (0.4.4)\n",
      "Requirement already satisfied, skipping upgrade: colorlog in /opt/conda/envs/python35-paddle120-env/lib/python3.7/site-packages (from paddlenlp) (4.1.0)\n",
      "Requirement already satisfied, skipping upgrade: seqeval in /opt/conda/envs/python35-paddle120-env/lib/python3.7/site-packages (from paddlenlp) (1.2.2)\n",
      "Requirement already satisfied, skipping upgrade: h5py in /opt/conda/envs/python35-paddle120-env/lib/python3.7/site-packages (from paddlenlp) (2.9.0)\n",
      "Requirement already satisfied, skipping upgrade: visualdl in /opt/conda/envs/python35-paddle120-env/lib/python3.7/site-packages (from paddlenlp) (2.1.1)\n",
      "Requirement already satisfied, skipping upgrade: dill>=0.3.3 in /opt/conda/envs/python35-paddle120-env/lib/python3.7/site-packages (from multiprocess->paddlenlp) (0.3.3)\n",
      "Requirement already satisfied, skipping upgrade: scikit-learn>=0.21.3 in /opt/conda/envs/python35-paddle120-env/lib/python3.7/site-packages (from seqeval->paddlenlp) (0.24.2)\n",
      "Requirement already satisfied, skipping upgrade: numpy>=1.14.0 in /opt/conda/envs/python35-paddle120-env/lib/python3.7/site-packages (from seqeval->paddlenlp) (1.20.3)\n",
      "Requirement already satisfied, skipping upgrade: six in /opt/conda/envs/python35-paddle120-env/lib/python3.7/site-packages (from h5py->paddlenlp) (1.15.0)\n",
      "Requirement already satisfied, skipping upgrade: Pillow>=7.0.0 in /opt/conda/envs/python35-paddle120-env/lib/python3.7/site-packages (from visualdl->paddlenlp) (7.1.2)\n",
      "Requirement already satisfied, skipping upgrade: requests in /opt/conda/envs/python35-paddle120-env/lib/python3.7/site-packages (from visualdl->paddlenlp) (2.22.0)\n",
      "Requirement already satisfied, skipping upgrade: flake8>=3.7.9 in /opt/conda/envs/python35-paddle120-env/lib/python3.7/site-packages (from visualdl->paddlenlp) (3.8.2)\n",
      "Requirement already satisfied, skipping upgrade: shellcheck-py in /opt/conda/envs/python35-paddle120-env/lib/python3.7/site-packages (from visualdl->paddlenlp) (0.7.1.1)\n",
      "Requirement already satisfied, skipping upgrade: bce-python-sdk in /opt/conda/envs/python35-paddle120-env/lib/python3.7/site-packages (from visualdl->paddlenlp) (0.8.53)\n",
      "Requirement already satisfied, skipping upgrade: pre-commit in /opt/conda/envs/python35-paddle120-env/lib/python3.7/site-packages (from visualdl->paddlenlp) (1.21.0)\n",
      "Requirement already satisfied, skipping upgrade: Flask-Babel>=1.0.0 in /opt/conda/envs/python35-paddle120-env/lib/python3.7/site-packages (from visualdl->paddlenlp) (1.0.0)\n",
      "Requirement already satisfied, skipping upgrade: flask>=1.1.1 in /opt/conda/envs/python35-paddle120-env/lib/python3.7/site-packages (from visualdl->paddlenlp) (1.1.1)\n",
      "Requirement already satisfied, skipping upgrade: protobuf>=3.11.0 in /opt/conda/envs/python35-paddle120-env/lib/python3.7/site-packages (from visualdl->paddlenlp) (3.14.0)\n",
      "Requirement already satisfied, skipping upgrade: scipy>=0.19.1 in /opt/conda/envs/python35-paddle120-env/lib/python3.7/site-packages (from scikit-learn>=0.21.3->seqeval->paddlenlp) (1.6.3)\n",
      "Requirement already satisfied, skipping upgrade: joblib>=0.11 in /opt/conda/envs/python35-paddle120-env/lib/python3.7/site-packages (from scikit-learn>=0.21.3->seqeval->paddlenlp) (0.14.1)\n",
      "Requirement already satisfied, skipping upgrade: threadpoolctl>=2.0.0 in /opt/conda/envs/python35-paddle120-env/lib/python3.7/site-packages (from scikit-learn>=0.21.3->seqeval->paddlenlp) (2.1.0)\n",
      "Requirement already satisfied, skipping upgrade: idna<2.9,>=2.5 in /opt/conda/envs/python35-paddle120-env/lib/python3.7/site-packages (from requests->visualdl->paddlenlp) (2.8)\n",
      "Requirement already satisfied, skipping upgrade: chardet<3.1.0,>=3.0.2 in /opt/conda/envs/python35-paddle120-env/lib/python3.7/site-packages (from requests->visualdl->paddlenlp) (3.0.4)\n",
      "Requirement already satisfied, skipping upgrade: certifi>=2017.4.17 in /opt/conda/envs/python35-paddle120-env/lib/python3.7/site-packages (from requests->visualdl->paddlenlp) (2019.9.11)\n",
      "Requirement already satisfied, skipping upgrade: urllib3!=1.25.0,!=1.25.1,<1.26,>=1.21.1 in /opt/conda/envs/python35-paddle120-env/lib/python3.7/site-packages (from requests->visualdl->paddlenlp) (1.25.6)\n",
      "Requirement already satisfied, skipping upgrade: importlib-metadata; python_version < \"3.8\" in /opt/conda/envs/python35-paddle120-env/lib/python3.7/site-packages (from flake8>=3.7.9->visualdl->paddlenlp) (0.23)\n",
      "Requirement already satisfied, skipping upgrade: pyflakes<2.3.0,>=2.2.0 in /opt/conda/envs/python35-paddle120-env/lib/python3.7/site-packages (from flake8>=3.7.9->visualdl->paddlenlp) (2.2.0)\n",
      "Requirement already satisfied, skipping upgrade: pycodestyle<2.7.0,>=2.6.0a1 in /opt/conda/envs/python35-paddle120-env/lib/python3.7/site-packages (from flake8>=3.7.9->visualdl->paddlenlp) (2.6.0)\n",
      "Requirement already satisfied, skipping upgrade: mccabe<0.7.0,>=0.6.0 in /opt/conda/envs/python35-paddle120-env/lib/python3.7/site-packages (from flake8>=3.7.9->visualdl->paddlenlp) (0.6.1)\n",
      "Requirement already satisfied, skipping upgrade: pycryptodome>=3.8.0 in /opt/conda/envs/python35-paddle120-env/lib/python3.7/site-packages (from bce-python-sdk->visualdl->paddlenlp) (3.9.9)\n",
      "Requirement already satisfied, skipping upgrade: future>=0.6.0 in /opt/conda/envs/python35-paddle120-env/lib/python3.7/site-packages (from bce-python-sdk->visualdl->paddlenlp) (0.18.0)\n",
      "Requirement already satisfied, skipping upgrade: aspy.yaml in /opt/conda/envs/python35-paddle120-env/lib/python3.7/site-packages (from pre-commit->visualdl->paddlenlp) (1.3.0)\n",
      "Requirement already satisfied, skipping upgrade: toml in /opt/conda/envs/python35-paddle120-env/lib/python3.7/site-packages (from pre-commit->visualdl->paddlenlp) (0.10.0)\n",
      "Requirement already satisfied, skipping upgrade: virtualenv>=15.2 in /opt/conda/envs/python35-paddle120-env/lib/python3.7/site-packages (from pre-commit->visualdl->paddlenlp) (16.7.9)\n",
      "Requirement already satisfied, skipping upgrade: cfgv>=2.0.0 in /opt/conda/envs/python35-paddle120-env/lib/python3.7/site-packages (from pre-commit->visualdl->paddlenlp) (2.0.1)\n",
      "Requirement already satisfied, skipping upgrade: identify>=1.0.0 in /opt/conda/envs/python35-paddle120-env/lib/python3.7/site-packages (from pre-commit->visualdl->paddlenlp) (1.4.10)\n",
      "Requirement already satisfied, skipping upgrade: pyyaml in /opt/conda/envs/python35-paddle120-env/lib/python3.7/site-packages (from pre-commit->visualdl->paddlenlp) (5.1.2)\n",
      "Requirement already satisfied, skipping upgrade: nodeenv>=0.11.1 in /opt/conda/envs/python35-paddle120-env/lib/python3.7/site-packages (from pre-commit->visualdl->paddlenlp) (1.3.4)\n",
      "Requirement already satisfied, skipping upgrade: Jinja2>=2.5 in /opt/conda/envs/python35-paddle120-env/lib/python3.7/site-packages (from Flask-Babel>=1.0.0->visualdl->paddlenlp) (2.10.1)\n",
      "Requirement already satisfied, skipping upgrade: Babel>=2.3 in /opt/conda/envs/python35-paddle120-env/lib/python3.7/site-packages (from Flask-Babel>=1.0.0->visualdl->paddlenlp) (2.8.0)\n",
      "Requirement already satisfied, skipping upgrade: pytz in /opt/conda/envs/python35-paddle120-env/lib/python3.7/site-packages (from Flask-Babel>=1.0.0->visualdl->paddlenlp) (2019.3)\n",
      "Requirement already satisfied, skipping upgrade: itsdangerous>=0.24 in /opt/conda/envs/python35-paddle120-env/lib/python3.7/site-packages (from flask>=1.1.1->visualdl->paddlenlp) (1.1.0)\n",
      "Requirement already satisfied, skipping upgrade: Werkzeug>=0.15 in /opt/conda/envs/python35-paddle120-env/lib/python3.7/site-packages (from flask>=1.1.1->visualdl->paddlenlp) (0.16.0)\n",
      "Requirement already satisfied, skipping upgrade: click>=5.1 in /opt/conda/envs/python35-paddle120-env/lib/python3.7/site-packages (from flask>=1.1.1->visualdl->paddlenlp) (7.0)\n",
      "Requirement already satisfied, skipping upgrade: zipp>=0.5 in /opt/conda/envs/python35-paddle120-env/lib/python3.7/site-packages (from importlib-metadata; python_version < \"3.8\"->flake8>=3.7.9->visualdl->paddlenlp) (0.6.0)\n",
      "Requirement already satisfied, skipping upgrade: MarkupSafe>=0.23 in /opt/conda/envs/python35-paddle120-env/lib/python3.7/site-packages (from Jinja2>=2.5->Flask-Babel>=1.0.0->visualdl->paddlenlp) (1.1.1)\n",
      "Requirement already satisfied, skipping upgrade: more-itertools in /opt/conda/envs/python35-paddle120-env/lib/python3.7/site-packages (from zipp>=0.5->importlib-metadata; python_version < \"3.8\"->flake8>=3.7.9->visualdl->paddlenlp) (7.2.0)\n",
      "/home/aistudio/relation_extraction\n"
     ]
    }
   ],
   "source": [
    "# 安装paddlenlp最新版本\n",
    "!pip install --upgrade paddlenlp\n",
    "\n",
    "%cd relation_extraction/"
   ]
  },
  {
   "cell_type": "markdown",
   "metadata": {
    "collapsed": false
   },
   "source": [
    "## 关系抽取介绍\n",
    "\n",
    "针对 DuIE2.0 任务中多条、交叠SPO这一抽取目标，比赛对标准的 'BIO' 标注进行了扩展。\n",
    "对于每个 token，根据其在实体span中的位置（包括B、I、O三种），我们为其打上三类标签，并且根据其所参与构建的predicate种类，将 B 标签进一步区分。给定 schema 集合，对于 N 种不同 predicate，以及头实体/尾实体两种情况，我们设计对应的共 2*N 种 B 标签，再合并 I 和 O 标签，故每个 token 一共有 (2*N+2) 个标签，如下图所示。\n",
    "\n",
    "\n",
    "<div align=\"center\">\n",
    "<img src=\"https://ai-studio-static-online.cdn.bcebos.com/f984664777b241a9b43ef843c9b752f33906c8916bc146a69f7270b5858bee63\" width=\"500\" height=\"400\" alt=\"标注策略\" align=center />\n",
    "</div>\n",
    "\n",
    "### 评价方法\n",
    "\n",
    "对测试集上参评系统输出的SPO结果和人工标注的SPO结果进行精准匹配，采用F1值作为评价指标。注意，对于复杂O值类型的SPO，必须所有槽位都精确匹配才认为该SPO抽取正确。针对部分文本中存在实体别名的问题，使用百度知识图谱的别名词典来辅助评测。F1值的计算方式如下：\n",
    "\n",
    "F1 = (2 * P * R) / (P + R)，其中\n",
    "\n",
    "- P = 测试集所有句子中预测正确的SPO个数 / 测试集所有句子中预测出的SPO个数\n",
    "- R = 测试集所有句子中预测正确的SPO个数 / 测试集所有句子中人工标注的SPO个数"
   ]
  },
  {
   "cell_type": "markdown",
   "metadata": {
    "collapsed": false
   },
   "source": [
    "### Step1：构建模型\n",
    "\n",
    "该任务可以看作一个序列标注任务，所以基线模型采用的是ERNIE序列标注模型。\n",
    "\n",
    "**PaddleNLP提供了ERNIE预训练模型常用序列标注模型，可以通过指定模型名字完成一键加载。PaddleNLP为了方便用户处理数据，内置了对于各个预训练模型对应的Tokenizer，可以完成文本token化，转token ID，文本长度截断等操作。**\n",
    "\n",
    "文本数据处理直接调用tokenizer即可输出模型所需输入数据。\n",
    "\n"
   ]
  },
  {
   "cell_type": "code",
   "execution_count": 2,
   "metadata": {
    "collapsed": false
   },
   "outputs": [
    {
     "name": "stderr",
     "output_type": "stream",
     "text": [
      "[2021-06-15 14:00:44,509] [    INFO] - Already cached /home/aistudio/.paddlenlp/models/ernie-1.0/ernie_v1_chn_base.pdparams\n",
      "/opt/conda/envs/python35-paddle120-env/lib/python3.7/site-packages/paddle/fluid/dygraph/layers.py:1297: UserWarning: Skip loading for classifier.weight. classifier.weight is not found in the provided dict.\n",
      "  warnings.warn((\"Skip loading for {}. \".format(key) + str(err)))\n",
      "/opt/conda/envs/python35-paddle120-env/lib/python3.7/site-packages/paddle/fluid/dygraph/layers.py:1297: UserWarning: Skip loading for classifier.bias. classifier.bias is not found in the provided dict.\n",
      "  warnings.warn((\"Skip loading for {}. \".format(key) + str(err)))\n",
      "[2021-06-15 14:00:52,304] [    INFO] - Found /home/aistudio/.paddlenlp/models/ernie-1.0/vocab.txt\n"
     ]
    }
   ],
   "source": [
    "import os\n",
    "import json\n",
    "from paddlenlp.transformers import ErnieForTokenClassification, ErnieTokenizer\n",
    "\n",
    "label_map_path = os.path.join('data', \"predicate2id.json\")\n",
    "\n",
    "if not (os.path.exists(label_map_path) and os.path.isfile(label_map_path)):\n",
    "    sys.exit(\"{} dose not exists or is not a file.\".format(label_map_path))\n",
    "with open(label_map_path, 'r', encoding='utf8') as fp:\n",
    "    label_map = json.load(fp)\n",
    "    \n",
    "num_classes = (len(label_map.keys()) - 2) * 2 + 2\n",
    "\n",
    "# 补齐代码，理解TokenClassification接口含义，理解关系抽取标注体系和类别数由来\n",
    "model = ErnieForTokenClassification.from_pretrained(\"ernie-1.0\", num_classes=num_classes )\n",
    "tokenizer = ErnieTokenizer.from_pretrained(\"ernie-1.0\")\n",
    "\n",
    "inputs = tokenizer(text=\"请输入测试样例\", max_seq_len=20)"
   ]
  },
  {
   "cell_type": "code",
   "execution_count": null,
   "metadata": {
    "collapsed": false
   },
   "outputs": [
    {
     "data": {
      "text/plain": [
       "<bound method Kernel.raw_input of <ipykernel.ipkernel.IPythonKernel object at 0x7f3e78765d90>>"
      ]
     },
     "execution_count": null,
     "metadata": {},
     "output_type": "execute_result"
    }
   ],
   "source": [
    "input"
   ]
  },
  {
   "cell_type": "markdown",
   "metadata": {
    "collapsed": false
   },
   "source": [
    "### Step2：加载并处理数据\n",
    "\n",
    "\n",
    "从比赛官网下载数据集，解压存放于data/目录下并重命名为train_data.json, dev_data.json, test_data.json.\n",
    "\n",
    "我们可以加载自定义数据集。通过继承[`paddle.io.Dataset`](https://www.paddlepaddle.org.cn/documentation/docs/zh/api/paddle/io/Dataset_cn.html#dataset)，自定义实现`__getitem__` 和 `__len__`两个方法。\n"
   ]
  },
  {
   "cell_type": "code",
   "execution_count": 3,
   "metadata": {
    "collapsed": false
   },
   "outputs": [],
   "source": [
    "from typing import Optional, List, Union, Dict\n",
    "\n",
    "import numpy as np\n",
    "import paddle\n",
    "from tqdm import tqdm\n",
    "from paddlenlp.utils.log import logger\n",
    "\n",
    "from data_loader import parse_label, DataCollator, convert_example_to_feature\n",
    "from extract_chinese_and_punct import ChineseAndPunctuationExtractor\n",
    "\n",
    "\n",
    "class DuIEDataset(paddle.io.Dataset):\n",
    "    \"\"\"\n",
    "    Dataset of DuIE.\n",
    "    \"\"\"\n",
    "\n",
    "    def __init__(\n",
    "            self,\n",
    "            input_ids: List[Union[List[int], np.ndarray]],\n",
    "            seq_lens: List[Union[List[int], np.ndarray]],\n",
    "            tok_to_orig_start_index: List[Union[List[int], np.ndarray]],\n",
    "            tok_to_orig_end_index: List[Union[List[int], np.ndarray]],\n",
    "            labels: List[Union[List[int], np.ndarray, List[str], List[Dict]]]):\n",
    "        super(DuIEDataset, self).__init__()\n",
    "\n",
    "        self.input_ids = input_ids\n",
    "        self.seq_lens = seq_lens\n",
    "        self.tok_to_orig_start_index = tok_to_orig_start_index\n",
    "        self.tok_to_orig_end_index = tok_to_orig_end_index\n",
    "        self.labels = labels\n",
    "\n",
    "    def __len__(self):\n",
    "        if isinstance(self.input_ids, np.ndarray):\n",
    "            return self.input_ids.shape[0]\n",
    "        else:\n",
    "            return len(self.input_ids)\n",
    "\n",
    "    def __getitem__(self, item):\n",
    "        return {\n",
    "            \"input_ids\": np.array(self.input_ids[item]),\n",
    "            \"seq_lens\": np.array(self.seq_lens[item]),\n",
    "            \"tok_to_orig_start_index\":\n",
    "            np.array(self.tok_to_orig_start_index[item]),\n",
    "            \"tok_to_orig_end_index\": np.array(self.tok_to_orig_end_index[item]),\n",
    "            # If model inputs is generated in `collate_fn`, delete the data type casting.\n",
    "            \"labels\": np.array(\n",
    "                self.labels[item], dtype=np.float32),\n",
    "        }\n",
    "\n",
    "    @classmethod\n",
    "    def from_file(cls,\n",
    "                  file_path: Union[str, os.PathLike],\n",
    "                  tokenizer: ErnieTokenizer,\n",
    "                  max_length: Optional[int]=512,\n",
    "                  pad_to_max_length: Optional[bool]=None):\n",
    "        assert os.path.exists(file_path) and os.path.isfile(\n",
    "            file_path), f\"{file_path} dose not exists or is not a file.\"\n",
    "        label_map_path = os.path.join(\n",
    "            os.path.dirname(file_path), \"predicate2id.json\")\n",
    "        assert os.path.exists(label_map_path) and os.path.isfile(\n",
    "            label_map_path\n",
    "        ), f\"{label_map_path} dose not exists or is not a file.\"\n",
    "        with open(label_map_path, 'r', encoding='utf8') as fp:\n",
    "            label_map = json.load(fp)\n",
    "        chineseandpunctuationextractor = ChineseAndPunctuationExtractor()\n",
    "\n",
    "        input_ids, seq_lens, tok_to_orig_start_index, tok_to_orig_end_index, labels = (\n",
    "            [] for _ in range(5))\n",
    "        dataset_scale = sum(1 for line in open(file_path, 'r'))\n",
    "        logger.info(\"Preprocessing data, loaded from %s\" % file_path)\n",
    "        with open(file_path, \"r\", encoding=\"utf-8\") as fp:\n",
    "            lines = fp.readlines()\n",
    "            for line in tqdm(lines):\n",
    "                example = json.loads(line)\n",
    "                input_feature = convert_example_to_feature(\n",
    "                    example, tokenizer, chineseandpunctuationextractor,\n",
    "                    label_map, max_length, pad_to_max_length)\n",
    "                input_ids.append(input_feature.input_ids)\n",
    "                seq_lens.append(input_feature.seq_len)\n",
    "                tok_to_orig_start_index.append(\n",
    "                    input_feature.tok_to_orig_start_index)\n",
    "                tok_to_orig_end_index.append(\n",
    "                    input_feature.tok_to_orig_end_index)\n",
    "                labels.append(input_feature.labels)\n",
    "\n",
    "        return cls(input_ids, seq_lens, tok_to_orig_start_index,\n",
    "                   tok_to_orig_end_index, labels)\n"
   ]
  },
  {
   "cell_type": "code",
   "execution_count": 4,
   "metadata": {
    "collapsed": false
   },
   "outputs": [
    {
     "name": "stderr",
     "output_type": "stream",
     "text": [
      "[2021-06-15 14:01:09,446] [    INFO] - Preprocessing data, loaded from data/train.json\n",
      "100%|██████████| 171293/171293 [05:21<00:00, 533.57it/s]\n",
      "[2021-06-15 14:06:30,893] [    INFO] - Preprocessing data, loaded from data/dev.json\n",
      "100%|██████████| 20674/20674 [00:38<00:00, 538.57it/s]\n"
     ]
    }
   ],
   "source": [
    "data_path = 'data'\n",
    "batch_size = 32\n",
    "max_seq_length = 128\n",
    "\n",
    "train_file_path = os.path.join(data_path, 'train.json')\n",
    "train_dataset = DuIEDataset.from_file(\n",
    "    train_file_path, tokenizer, max_seq_length, True)\n",
    "train_batch_sampler = paddle.io.BatchSampler(\n",
    "    train_dataset, batch_size=batch_size, shuffle=True, drop_last=True)\n",
    "collator = DataCollator()\n",
    "train_data_loader = paddle.io.DataLoader(\n",
    "    dataset=train_dataset,\n",
    "    batch_sampler=train_batch_sampler,\n",
    "    collate_fn=collator)\n",
    "\n",
    "eval_file_path = os.path.join(data_path, 'dev.json')\n",
    "test_dataset = DuIEDataset.from_file(\n",
    "    eval_file_path, tokenizer, max_seq_length, True)\n",
    "test_batch_sampler = paddle.io.BatchSampler(\n",
    "    test_dataset, batch_size=batch_size, shuffle=False, drop_last=True)\n",
    "test_data_loader = paddle.io.DataLoader(\n",
    "    dataset=test_dataset,\n",
    "    batch_sampler=test_batch_sampler,\n",
    "    collate_fn=collator)"
   ]
  },
  {
   "cell_type": "markdown",
   "metadata": {
    "collapsed": false
   },
   "source": [
    "### Step3：定义损失函数和优化器，开始训练\n",
    "\n",
    "我们选择均方误差作为损失函数，使用[`paddle.optimizer.AdamW`](https://www.paddlepaddle.org.cn/documentation/docs/zh/api/paddle/optimizer/adamw/AdamW_cn.html#adamw)作为优化器。\n",
    "\n",
    "\n",
    "\n",
    "在训练过程中，模型保存在当前目录checkpoints文件夹下。同时在训练的同时使用官方评测脚本进行评估，输出P/R/F1指标。\n",
    "在验证集上F1可以达到69.42。\n"
   ]
  },
  {
   "cell_type": "code",
   "execution_count": 5,
   "metadata": {
    "collapsed": false
   },
   "outputs": [],
   "source": [
    "import paddle.nn as nn\n",
    "\n",
    "class BCELossForDuIE(nn.Layer):\n",
    "    def __init__(self, ):\n",
    "        super(BCELossForDuIE, self).__init__()\n",
    "        self.criterion = nn.BCEWithLogitsLoss(reduction='none')\n",
    "\n",
    "    def forward(self, logits, labels, mask):\n",
    "        loss = self.criterion(logits, labels)\n",
    "        mask = paddle.cast(mask, 'float32')\n",
    "        loss = loss * mask.unsqueeze(-1)\n",
    "        loss = paddle.sum(loss.mean(axis=2), axis=1) / paddle.sum(mask, axis=1)\n",
    "        loss = loss.mean()\n",
    "        return loss"
   ]
  },
  {
   "cell_type": "code",
   "execution_count": 6,
   "metadata": {
    "collapsed": false
   },
   "outputs": [],
   "source": [
    "from utils import write_prediction_results, get_precision_recall_f1, decoding\n",
    "\n",
    "@paddle.no_grad()\n",
    "def evaluate(model, criterion, data_loader, file_path, mode):\n",
    "    \"\"\"\n",
    "    mode eval:\n",
    "    eval on development set and compute P/R/F1, called between training.\n",
    "    mode predict:\n",
    "    eval on development / test set, then write predictions to \\\n",
    "        predict_test.json and predict_test.json.zip \\\n",
    "        under /home/aistudio/relation_extraction/data dir for later submission or evaluation.\n",
    "    \"\"\"\n",
    "    example_all = []\n",
    "    with open(file_path, \"r\", encoding=\"utf-8\") as fp:\n",
    "        for line in fp:\n",
    "            example_all.append(json.loads(line))\n",
    "    id2spo_path = os.path.join(os.path.dirname(file_path), \"id2spo.json\")\n",
    "    with open(id2spo_path, 'r', encoding='utf8') as fp:\n",
    "        id2spo = json.load(fp)\n",
    "\n",
    "    model.eval()\n",
    "    loss_all = 0\n",
    "    eval_steps = 0\n",
    "    formatted_outputs = []\n",
    "    current_idx = 0\n",
    "    for batch in tqdm(data_loader, total=len(data_loader)):\n",
    "        eval_steps += 1\n",
    "        input_ids, seq_len, tok_to_orig_start_index, tok_to_orig_end_index, labels = batch\n",
    "        logits = model(input_ids=input_ids)\n",
    "        mask = (input_ids != 0).logical_and((input_ids != 1)).logical_and((input_ids != 2))\n",
    "        loss = criterion(logits, labels, mask)\n",
    "        loss_all += loss.numpy().item()\n",
    "        probs = F.sigmoid(logits)\n",
    "        logits_batch = probs.numpy()\n",
    "        seq_len_batch = seq_len.numpy()\n",
    "        tok_to_orig_start_index_batch = tok_to_orig_start_index.numpy()\n",
    "        tok_to_orig_end_index_batch = tok_to_orig_end_index.numpy()\n",
    "        formatted_outputs.extend(decoding(example_all[current_idx: current_idx+len(logits)],\n",
    "                                          id2spo,\n",
    "                                          logits_batch,\n",
    "                                          seq_len_batch,\n",
    "                                          tok_to_orig_start_index_batch,\n",
    "                                          tok_to_orig_end_index_batch))\n",
    "        current_idx = current_idx+len(logits)\n",
    "    loss_avg = loss_all / eval_steps\n",
    "    print(\"eval loss: %f\" % (loss_avg))\n",
    "\n",
    "    if mode == \"predict\":\n",
    "        predict_file_path = os.path.join(\"/home/aistudio/relation_extraction/data\", 'predictions.json')\n",
    "    else:\n",
    "        predict_file_path = os.path.join(\"/home/aistudio/relation_extraction/data\", 'predict_eval.json')\n",
    "\n",
    "    predict_zipfile_path = write_prediction_results(formatted_outputs,\n",
    "                                                    predict_file_path)\n",
    "\n",
    "    if mode == \"eval\":\n",
    "        precision, recall, f1 = get_precision_recall_f1(file_path,\n",
    "                                                        predict_zipfile_path)\n",
    "        os.system('rm {} {}'.format(predict_file_path, predict_zipfile_path))\n",
    "        return precision, recall, f1\n",
    "    elif mode != \"predict\":\n",
    "        raise Exception(\"wrong mode for eval func\")"
   ]
  },
  {
   "cell_type": "code",
   "execution_count": 7,
   "metadata": {
    "collapsed": false
   },
   "outputs": [],
   "source": [
    "from paddlenlp.transformers import LinearDecayWithWarmup\n",
    "\n",
    "learning_rate = 2e-5\n",
    "num_train_epochs = 20\n",
    "warmup_ratio = 0.06\n",
    "\n",
    "criterion = BCELossForDuIE()\n",
    "# Defines learning rate strategy.\n",
    "steps_by_epoch = len(train_data_loader)\n",
    "num_training_steps = steps_by_epoch * num_train_epochs\n",
    "lr_scheduler = LinearDecayWithWarmup(learning_rate, num_training_steps, warmup_ratio)\n",
    "optimizer = paddle.optimizer.AdamW(\n",
    "    learning_rate=lr_scheduler,\n",
    "    parameters=model.parameters(),\n",
    "    apply_decay_param_fun=lambda x: x in [\n",
    "        p.name for n, p in model.named_parameters()\n",
    "        if not any(nd in n for nd in [\"bias\", \"norm\"])])"
   ]
  },
  {
   "cell_type": "code",
   "execution_count": null,
   "metadata": {
    "collapsed": false
   },
   "outputs": [
    {
     "name": "stdout",
     "output_type": "stream",
     "text": [
      "mkdir: cannot create directory ‘checkpoints’: File exists\r\n"
     ]
    }
   ],
   "source": [
    "# 模型参数保存路径\n",
    "!mkdir checkpoints"
   ]
  },
  {
   "cell_type": "markdown",
   "metadata": {
    "collapsed": false
   },
   "source": [
    "### Step4：提交预测结果\n",
    "\n",
    "加载训练保存的模型加载后进行预测。\n",
    "\n",
    "**NOTE:** 注意设置用于预测的模型参数路径。"
   ]
  },
  {
   "cell_type": "code",
   "execution_count": 8,
   "metadata": {
    "collapsed": false
   },
   "outputs": [
    {
     "name": "stdout",
     "output_type": "stream",
     "text": [
      "\n",
      "=====start training of 0 epochs=====\n",
      "epoch: 0 / 2, steps: 0 / 5352, loss: 0.753705, speed: 89.83 step/s\n",
      "epoch: 0 / 2, steps: 50 / 5352, loss: 0.752131, speed: 4.18 step/s\n",
      "epoch: 0 / 2, steps: 100 / 5352, loss: 0.743171, speed: 4.05 step/s\n",
      "epoch: 0 / 2, steps: 150 / 5352, loss: 0.731572, speed: 4.08 step/s\n",
      "epoch: 0 / 2, steps: 200 / 5352, loss: 0.711231, speed: 4.08 step/s\n",
      "epoch: 0 / 2, steps: 250 / 5352, loss: 0.680438, speed: 4.11 step/s\n",
      "epoch: 0 / 2, steps: 300 / 5352, loss: 0.629222, speed: 4.10 step/s\n",
      "epoch: 0 / 2, steps: 350 / 5352, loss: 0.519823, speed: 4.11 step/s\n",
      "epoch: 0 / 2, steps: 400 / 5352, loss: 0.424237, speed: 4.08 step/s\n",
      "epoch: 0 / 2, steps: 450 / 5352, loss: 0.349141, speed: 4.08 step/s\n",
      "epoch: 0 / 2, steps: 500 / 5352, loss: 0.311353, speed: 4.08 step/s\n",
      "epoch: 0 / 2, steps: 550 / 5352, loss: 0.284667, speed: 4.10 step/s\n",
      "epoch: 0 / 2, steps: 600 / 5352, loss: 0.262967, speed: 4.10 step/s\n",
      "epoch: 0 / 2, steps: 650 / 5352, loss: 0.248227, speed: 4.08 step/s\n",
      "epoch: 0 / 2, steps: 700 / 5352, loss: 0.233439, speed: 4.08 step/s\n",
      "epoch: 0 / 2, steps: 750 / 5352, loss: 0.221034, speed: 4.08 step/s\n",
      "epoch: 0 / 2, steps: 800 / 5352, loss: 0.209193, speed: 4.12 step/s\n",
      "epoch: 0 / 2, steps: 850 / 5352, loss: 0.195966, speed: 4.10 step/s\n",
      "epoch: 0 / 2, steps: 900 / 5352, loss: 0.185389, speed: 4.14 step/s\n",
      "epoch: 0 / 2, steps: 950 / 5352, loss: 0.175014, speed: 4.05 step/s\n",
      "epoch: 0 / 2, steps: 1000 / 5352, loss: 0.165016, speed: 4.07 step/s\n",
      "epoch: 0 / 2, steps: 1050 / 5352, loss: 0.154743, speed: 4.08 step/s\n",
      "epoch: 0 / 2, steps: 1100 / 5352, loss: 0.144813, speed: 4.06 step/s\n",
      "epoch: 0 / 2, steps: 1150 / 5352, loss: 0.135684, speed: 4.04 step/s\n",
      "epoch: 0 / 2, steps: 1200 / 5352, loss: 0.127936, speed: 4.07 step/s\n",
      "epoch: 0 / 2, steps: 1250 / 5352, loss: 0.120839, speed: 4.08 step/s\n",
      "epoch: 0 / 2, steps: 1300 / 5352, loss: 0.112017, speed: 4.10 step/s\n",
      "epoch: 0 / 2, steps: 1350 / 5352, loss: 0.106073, speed: 4.09 step/s\n",
      "epoch: 0 / 2, steps: 1400 / 5352, loss: 0.100746, speed: 4.09 step/s\n",
      "epoch: 0 / 2, steps: 1450 / 5352, loss: 0.092627, speed: 4.05 step/s\n",
      "epoch: 0 / 2, steps: 1500 / 5352, loss: 0.087249, speed: 4.09 step/s\n",
      "epoch: 0 / 2, steps: 1550 / 5352, loss: 0.082982, speed: 4.08 step/s\n",
      "epoch: 0 / 2, steps: 1600 / 5352, loss: 0.077203, speed: 4.06 step/s\n",
      "epoch: 0 / 2, steps: 1650 / 5352, loss: 0.071942, speed: 4.07 step/s\n",
      "epoch: 0 / 2, steps: 1700 / 5352, loss: 0.069507, speed: 4.07 step/s\n",
      "epoch: 0 / 2, steps: 1750 / 5352, loss: 0.064777, speed: 4.07 step/s\n",
      "epoch: 0 / 2, steps: 1800 / 5352, loss: 0.060467, speed: 4.07 step/s\n",
      "epoch: 0 / 2, steps: 1850 / 5352, loss: 0.056432, speed: 4.07 step/s\n",
      "epoch: 0 / 2, steps: 1900 / 5352, loss: 0.054686, speed: 4.07 step/s\n",
      "epoch: 0 / 2, steps: 1950 / 5352, loss: 0.051124, speed: 4.08 step/s\n",
      "epoch: 0 / 2, steps: 2000 / 5352, loss: 0.048612, speed: 4.07 step/s\n",
      "epoch: 0 / 2, steps: 2050 / 5352, loss: 0.046625, speed: 4.09 step/s\n",
      "epoch: 0 / 2, steps: 2100 / 5352, loss: 0.043840, speed: 4.09 step/s\n",
      "epoch: 0 / 2, steps: 2150 / 5352, loss: 0.041464, speed: 4.09 step/s\n",
      "epoch: 0 / 2, steps: 2200 / 5352, loss: 0.040877, speed: 4.08 step/s\n",
      "epoch: 0 / 2, steps: 2250 / 5352, loss: 0.036957, speed: 4.07 step/s\n",
      "epoch: 0 / 2, steps: 2300 / 5352, loss: 0.036085, speed: 4.09 step/s\n",
      "epoch: 0 / 2, steps: 2350 / 5352, loss: 0.035228, speed: 4.08 step/s\n",
      "epoch: 0 / 2, steps: 2400 / 5352, loss: 0.032847, speed: 4.10 step/s\n",
      "epoch: 0 / 2, steps: 2450 / 5352, loss: 0.032021, speed: 4.08 step/s\n",
      "epoch: 0 / 2, steps: 2500 / 5352, loss: 0.031305, speed: 4.06 step/s\n",
      "epoch: 0 / 2, steps: 2550 / 5352, loss: 0.030216, speed: 4.08 step/s\n",
      "epoch: 0 / 2, steps: 2600 / 5352, loss: 0.029037, speed: 4.07 step/s\n",
      "epoch: 0 / 2, steps: 2650 / 5352, loss: 0.027223, speed: 4.07 step/s\n",
      "epoch: 0 / 2, steps: 2700 / 5352, loss: 0.026687, speed: 4.07 step/s\n",
      "epoch: 0 / 2, steps: 2750 / 5352, loss: 0.027823, speed: 4.06 step/s\n",
      "epoch: 0 / 2, steps: 2800 / 5352, loss: 0.026967, speed: 4.08 step/s\n",
      "epoch: 0 / 2, steps: 2850 / 5352, loss: 0.023125, speed: 4.07 step/s\n",
      "epoch: 0 / 2, steps: 2900 / 5352, loss: 0.023711, speed: 4.06 step/s\n",
      "epoch: 0 / 2, steps: 2950 / 5352, loss: 0.022460, speed: 4.08 step/s\n",
      "epoch: 0 / 2, steps: 3000 / 5352, loss: 0.021998, speed: 4.08 step/s\n",
      "epoch: 0 / 2, steps: 3050 / 5352, loss: 0.021078, speed: 4.08 step/s\n",
      "epoch: 0 / 2, steps: 3100 / 5352, loss: 0.019929, speed: 4.07 step/s\n",
      "epoch: 0 / 2, steps: 3150 / 5352, loss: 0.017311, speed: 4.09 step/s\n",
      "epoch: 0 / 2, steps: 3200 / 5352, loss: 0.016525, speed: 4.09 step/s\n",
      "epoch: 0 / 2, steps: 3250 / 5352, loss: 0.016776, speed: 4.07 step/s\n",
      "epoch: 0 / 2, steps: 3300 / 5352, loss: 0.015557, speed: 4.07 step/s\n",
      "epoch: 0 / 2, steps: 3350 / 5352, loss: 0.014955, speed: 4.07 step/s\n",
      "epoch: 0 / 2, steps: 3400 / 5352, loss: 0.014540, speed: 4.10 step/s\n",
      "epoch: 0 / 2, steps: 3450 / 5352, loss: 0.014473, speed: 4.09 step/s\n",
      "epoch: 0 / 2, steps: 3500 / 5352, loss: 0.014535, speed: 4.08 step/s\n",
      "epoch: 0 / 2, steps: 3550 / 5352, loss: 0.013196, speed: 4.08 step/s\n",
      "epoch: 0 / 2, steps: 3600 / 5352, loss: 0.012603, speed: 4.08 step/s\n",
      "epoch: 0 / 2, steps: 3650 / 5352, loss: 0.012185, speed: 4.09 step/s\n",
      "epoch: 0 / 2, steps: 3700 / 5352, loss: 0.012072, speed: 4.10 step/s\n",
      "epoch: 0 / 2, steps: 3750 / 5352, loss: 0.012062, speed: 4.09 step/s\n",
      "epoch: 0 / 2, steps: 3800 / 5352, loss: 0.012287, speed: 4.06 step/s\n",
      "epoch: 0 / 2, steps: 3850 / 5352, loss: 0.010693, speed: 4.08 step/s\n",
      "epoch: 0 / 2, steps: 3900 / 5352, loss: 0.009901, speed: 4.09 step/s\n",
      "epoch: 0 / 2, steps: 3950 / 5352, loss: 0.009945, speed: 4.10 step/s\n",
      "epoch: 0 / 2, steps: 4000 / 5352, loss: 0.009530, speed: 4.17 step/s\n",
      "epoch: 0 / 2, steps: 4050 / 5352, loss: 0.009503, speed: 4.14 step/s\n",
      "epoch: 0 / 2, steps: 4100 / 5352, loss: 0.008573, speed: 4.08 step/s\n",
      "epoch: 0 / 2, steps: 4150 / 5352, loss: 0.008526, speed: 4.07 step/s\n",
      "epoch: 0 / 2, steps: 4200 / 5352, loss: 0.009477, speed: 4.08 step/s\n",
      "epoch: 0 / 2, steps: 4250 / 5352, loss: 0.010172, speed: 4.08 step/s\n",
      "epoch: 0 / 2, steps: 4300 / 5352, loss: 0.009048, speed: 4.06 step/s\n",
      "epoch: 0 / 2, steps: 4350 / 5352, loss: 0.009108, speed: 4.07 step/s\n",
      "epoch: 0 / 2, steps: 4400 / 5352, loss: 0.010161, speed: 4.09 step/s\n",
      "epoch: 0 / 2, steps: 4450 / 5352, loss: 0.007330, speed: 4.09 step/s\n",
      "epoch: 0 / 2, steps: 4500 / 5352, loss: 0.008673, speed: 4.09 step/s\n",
      "epoch: 0 / 2, steps: 4550 / 5352, loss: 0.008027, speed: 4.07 step/s\n",
      "epoch: 0 / 2, steps: 4600 / 5352, loss: 0.008395, speed: 4.07 step/s\n",
      "epoch: 0 / 2, steps: 4650 / 5352, loss: 0.006316, speed: 4.07 step/s\n",
      "epoch: 0 / 2, steps: 4700 / 5352, loss: 0.008214, speed: 4.07 step/s\n",
      "epoch: 0 / 2, steps: 4750 / 5352, loss: 0.009010, speed: 4.09 step/s\n",
      "epoch: 0 / 2, steps: 4800 / 5352, loss: 0.006730, speed: 4.07 step/s\n",
      "epoch: 0 / 2, steps: 4850 / 5352, loss: 0.007057, speed: 4.07 step/s\n",
      "epoch: 0 / 2, steps: 4900 / 5352, loss: 0.007309, speed: 4.05 step/s\n",
      "epoch: 0 / 2, steps: 4950 / 5352, loss: 0.006618, speed: 4.10 step/s\n",
      "epoch: 0 / 2, steps: 5000 / 5352, loss: 0.006757, speed: 4.11 step/s\n",
      "epoch: 0 / 2, steps: 5050 / 5352, loss: 0.005947, speed: 4.07 step/s\n",
      "epoch: 0 / 2, steps: 5100 / 5352, loss: 0.005577, speed: 4.04 step/s\n",
      "epoch: 0 / 2, steps: 5150 / 5352, loss: 0.005030, speed: 4.10 step/s\n",
      "epoch: 0 / 2, steps: 5200 / 5352, loss: 0.005975, speed: 4.14 step/s\n",
      "epoch: 0 / 2, steps: 5250 / 5352, loss: 0.006634, speed: 4.05 step/s\n",
      "epoch: 0 / 2, steps: 5300 / 5352, loss: 0.006702, speed: 4.05 step/s\n",
      "epoch: 0 / 2, steps: 5350 / 5352, loss: 0.005839, speed: 4.06 step/s\n",
      "epoch time footprint: 0 hour 21 min 51 sec\n",
      "\n",
      "=====start training of 1 epochs=====\n",
      "epoch: 1 / 2, steps: 48 / 5352, loss: 0.007262, speed: 4.13 step/s\n",
      "epoch: 1 / 2, steps: 98 / 5352, loss: 0.004849, speed: 4.12 step/s\n",
      "epoch: 1 / 2, steps: 148 / 5352, loss: 0.005755, speed: 4.10 step/s\n",
      "epoch: 1 / 2, steps: 198 / 5352, loss: 0.005755, speed: 4.08 step/s\n",
      "epoch: 1 / 2, steps: 248 / 5352, loss: 0.005408, speed: 4.08 step/s\n",
      "epoch: 1 / 2, steps: 298 / 5352, loss: 0.005806, speed: 4.07 step/s\n",
      "epoch: 1 / 2, steps: 348 / 5352, loss: 0.004692, speed: 4.09 step/s\n",
      "epoch: 1 / 2, steps: 398 / 5352, loss: 0.004874, speed: 4.09 step/s\n",
      "epoch: 1 / 2, steps: 448 / 5352, loss: 0.005517, speed: 4.07 step/s\n",
      "epoch: 1 / 2, steps: 498 / 5352, loss: 0.005133, speed: 4.08 step/s\n",
      "epoch: 1 / 2, steps: 548 / 5352, loss: 0.005551, speed: 4.03 step/s\n",
      "epoch: 1 / 2, steps: 598 / 5352, loss: 0.004472, speed: 4.06 step/s\n",
      "epoch: 1 / 2, steps: 648 / 5352, loss: 0.004831, speed: 4.06 step/s\n",
      "epoch: 1 / 2, steps: 698 / 5352, loss: 0.005130, speed: 4.06 step/s\n",
      "epoch: 1 / 2, steps: 748 / 5352, loss: 0.004722, speed: 4.05 step/s\n",
      "epoch: 1 / 2, steps: 798 / 5352, loss: 0.003966, speed: 4.07 step/s\n",
      "epoch: 1 / 2, steps: 848 / 5352, loss: 0.004253, speed: 4.06 step/s\n",
      "epoch: 1 / 2, steps: 898 / 5352, loss: 0.005592, speed: 4.06 step/s\n",
      "epoch: 1 / 2, steps: 948 / 5352, loss: 0.004151, speed: 4.07 step/s\n",
      "epoch: 1 / 2, steps: 998 / 5352, loss: 0.005509, speed: 4.07 step/s\n",
      "epoch: 1 / 2, steps: 1048 / 5352, loss: 0.004257, speed: 4.05 step/s\n",
      "epoch: 1 / 2, steps: 1098 / 5352, loss: 0.003504, speed: 4.07 step/s\n",
      "epoch: 1 / 2, steps: 1148 / 5352, loss: 0.004811, speed: 4.06 step/s\n",
      "epoch: 1 / 2, steps: 1198 / 5352, loss: 0.003949, speed: 4.06 step/s\n",
      "epoch: 1 / 2, steps: 1248 / 5352, loss: 0.003770, speed: 4.04 step/s\n",
      "epoch: 1 / 2, steps: 1298 / 5352, loss: 0.004607, speed: 4.05 step/s\n",
      "epoch: 1 / 2, steps: 1348 / 5352, loss: 0.004608, speed: 4.06 step/s\n",
      "epoch: 1 / 2, steps: 1398 / 5352, loss: 0.004266, speed: 4.06 step/s\n",
      "epoch: 1 / 2, steps: 1448 / 5352, loss: 0.003426, speed: 4.07 step/s\n",
      "epoch: 1 / 2, steps: 1498 / 5352, loss: 0.003681, speed: 4.07 step/s\n",
      "epoch: 1 / 2, steps: 1548 / 5352, loss: 0.004612, speed: 4.05 step/s\n",
      "epoch: 1 / 2, steps: 1598 / 5352, loss: 0.003860, speed: 4.09 step/s\n",
      "epoch: 1 / 2, steps: 1648 / 5352, loss: 0.004618, speed: 4.09 step/s\n",
      "epoch: 1 / 2, steps: 1698 / 5352, loss: 0.003226, speed: 4.10 step/s\n",
      "epoch: 1 / 2, steps: 1748 / 5352, loss: 0.003501, speed: 4.09 step/s\n",
      "epoch: 1 / 2, steps: 1798 / 5352, loss: 0.003111, speed: 4.09 step/s\n",
      "epoch: 1 / 2, steps: 1848 / 5352, loss: 0.004746, speed: 4.08 step/s\n",
      "epoch: 1 / 2, steps: 1898 / 5352, loss: 0.004239, speed: 4.08 step/s\n",
      "epoch: 1 / 2, steps: 1948 / 5352, loss: 0.003734, speed: 4.07 step/s\n",
      "epoch: 1 / 2, steps: 1998 / 5352, loss: 0.003376, speed: 4.09 step/s\n",
      "epoch: 1 / 2, steps: 2048 / 5352, loss: 0.003777, speed: 4.08 step/s\n",
      "epoch: 1 / 2, steps: 2098 / 5352, loss: 0.003362, speed: 4.09 step/s\n",
      "epoch: 1 / 2, steps: 2148 / 5352, loss: 0.003640, speed: 4.07 step/s\n",
      "epoch: 1 / 2, steps: 2198 / 5352, loss: 0.004969, speed: 4.07 step/s\n",
      "epoch: 1 / 2, steps: 2248 / 5352, loss: 0.004313, speed: 4.14 step/s\n",
      "epoch: 1 / 2, steps: 2298 / 5352, loss: 0.003404, speed: 4.16 step/s\n",
      "epoch: 1 / 2, steps: 2348 / 5352, loss: 0.002977, speed: 4.09 step/s\n",
      "epoch: 1 / 2, steps: 2398 / 5352, loss: 0.002925, speed: 4.16 step/s\n",
      "epoch: 1 / 2, steps: 2448 / 5352, loss: 0.002843, speed: 4.15 step/s\n",
      "epoch: 1 / 2, steps: 2498 / 5352, loss: 0.003172, speed: 4.11 step/s\n",
      "epoch: 1 / 2, steps: 2548 / 5352, loss: 0.003596, speed: 4.14 step/s\n",
      "epoch: 1 / 2, steps: 2598 / 5352, loss: 0.004142, speed: 4.07 step/s\n",
      "epoch: 1 / 2, steps: 2648 / 5352, loss: 0.004045, speed: 4.08 step/s\n",
      "epoch: 1 / 2, steps: 2698 / 5352, loss: 0.003967, speed: 4.11 step/s\n",
      "epoch: 1 / 2, steps: 2748 / 5352, loss: 0.003065, speed: 4.07 step/s\n",
      "epoch: 1 / 2, steps: 2798 / 5352, loss: 0.002968, speed: 4.08 step/s\n",
      "epoch: 1 / 2, steps: 2848 / 5352, loss: 0.004555, speed: 4.10 step/s\n",
      "epoch: 1 / 2, steps: 2898 / 5352, loss: 0.003451, speed: 4.09 step/s\n",
      "epoch: 1 / 2, steps: 2948 / 5352, loss: 0.003619, speed: 4.11 step/s\n",
      "epoch: 1 / 2, steps: 2998 / 5352, loss: 0.004744, speed: 4.10 step/s\n",
      "epoch: 1 / 2, steps: 3048 / 5352, loss: 0.003515, speed: 4.11 step/s\n",
      "epoch: 1 / 2, steps: 3098 / 5352, loss: 0.002759, speed: 4.11 step/s\n",
      "epoch: 1 / 2, steps: 3148 / 5352, loss: 0.002878, speed: 4.16 step/s\n",
      "epoch: 1 / 2, steps: 3198 / 5352, loss: 0.002730, speed: 4.14 step/s\n",
      "epoch: 1 / 2, steps: 3248 / 5352, loss: 0.003777, speed: 4.15 step/s\n",
      "epoch: 1 / 2, steps: 3298 / 5352, loss: 0.004796, speed: 4.12 step/s\n",
      "epoch: 1 / 2, steps: 3348 / 5352, loss: 0.002553, speed: 4.14 step/s\n",
      "epoch: 1 / 2, steps: 3398 / 5352, loss: 0.002705, speed: 4.06 step/s\n",
      "epoch: 1 / 2, steps: 3448 / 5352, loss: 0.003187, speed: 4.08 step/s\n",
      "epoch: 1 / 2, steps: 3498 / 5352, loss: 0.003337, speed: 4.09 step/s\n",
      "epoch: 1 / 2, steps: 3548 / 5352, loss: 0.003187, speed: 4.09 step/s\n",
      "epoch: 1 / 2, steps: 3598 / 5352, loss: 0.002705, speed: 4.09 step/s\n",
      "epoch: 1 / 2, steps: 3648 / 5352, loss: 0.002958, speed: 4.05 step/s\n",
      "epoch: 1 / 2, steps: 3698 / 5352, loss: 0.003116, speed: 4.05 step/s\n",
      "epoch: 1 / 2, steps: 3748 / 5352, loss: 0.002295, speed: 4.10 step/s\n",
      "epoch: 1 / 2, steps: 3798 / 5352, loss: 0.003037, speed: 4.04 step/s\n",
      "epoch: 1 / 2, steps: 3848 / 5352, loss: 0.002400, speed: 4.08 step/s\n",
      "epoch: 1 / 2, steps: 3898 / 5352, loss: 0.002902, speed: 4.08 step/s\n",
      "epoch: 1 / 2, steps: 3948 / 5352, loss: 0.002498, speed: 4.09 step/s\n",
      "epoch: 1 / 2, steps: 3998 / 5352, loss: 0.002733, speed: 4.09 step/s\n",
      "epoch: 1 / 2, steps: 4048 / 5352, loss: 0.003845, speed: 4.09 step/s\n",
      "epoch: 1 / 2, steps: 4098 / 5352, loss: 0.002521, speed: 4.07 step/s\n",
      "epoch: 1 / 2, steps: 4148 / 5352, loss: 0.002489, speed: 4.07 step/s\n",
      "epoch: 1 / 2, steps: 4198 / 5352, loss: 0.002421, speed: 4.06 step/s\n",
      "epoch: 1 / 2, steps: 4248 / 5352, loss: 0.002425, speed: 4.10 step/s\n",
      "epoch: 1 / 2, steps: 4298 / 5352, loss: 0.003570, speed: 4.13 step/s\n",
      "epoch: 1 / 2, steps: 4348 / 5352, loss: 0.003373, speed: 4.06 step/s\n",
      "epoch: 1 / 2, steps: 4398 / 5352, loss: 0.003023, speed: 4.05 step/s\n",
      "epoch: 1 / 2, steps: 4448 / 5352, loss: 0.002818, speed: 4.04 step/s\n",
      "epoch: 1 / 2, steps: 4498 / 5352, loss: 0.002585, speed: 4.05 step/s\n",
      "epoch: 1 / 2, steps: 4548 / 5352, loss: 0.003863, speed: 4.06 step/s\n",
      "epoch: 1 / 2, steps: 4598 / 5352, loss: 0.001886, speed: 4.06 step/s\n",
      "epoch: 1 / 2, steps: 4648 / 5352, loss: 0.003374, speed: 4.09 step/s\n",
      "\n",
      "=====start evaluating ckpt of 10000 steps=====\n"
     ]
    },
    {
     "name": "stderr",
     "output_type": "stream",
     "text": [
      "100%|██████████| 646/646 [01:01<00:00, 10.57it/s]\n"
     ]
    },
    {
     "name": "stdout",
     "output_type": "stream",
     "text": [
      "eval loss: 0.002532\n",
      "precision: 65.32\t recall: 55.81\t f1: 60.19\t\n",
      "saving checkpoing model_10000.pdparams to checkpoints \n",
      "epoch: 1 / 2, steps: 4698 / 5352, loss: 0.002489, speed: 0.60 step/s\n",
      "epoch: 1 / 2, steps: 4748 / 5352, loss: 0.001921, speed: 4.08 step/s\n",
      "epoch: 1 / 2, steps: 4798 / 5352, loss: 0.002255, speed: 4.11 step/s\n",
      "epoch: 1 / 2, steps: 4848 / 5352, loss: 0.003437, speed: 4.15 step/s\n",
      "epoch: 1 / 2, steps: 4898 / 5352, loss: 0.002053, speed: 4.13 step/s\n",
      "epoch: 1 / 2, steps: 4948 / 5352, loss: 0.002506, speed: 4.17 step/s\n",
      "epoch: 1 / 2, steps: 4998 / 5352, loss: 0.002650, speed: 4.08 step/s\n",
      "epoch: 1 / 2, steps: 5048 / 5352, loss: 0.002404, speed: 4.11 step/s\n",
      "epoch: 1 / 2, steps: 5098 / 5352, loss: 0.002043, speed: 4.15 step/s\n",
      "epoch: 1 / 2, steps: 5148 / 5352, loss: 0.002607, speed: 4.12 step/s\n",
      "epoch: 1 / 2, steps: 5198 / 5352, loss: 0.002443, speed: 4.08 step/s\n",
      "epoch: 1 / 2, steps: 5248 / 5352, loss: 0.003500, speed: 4.14 step/s\n",
      "epoch: 1 / 2, steps: 5298 / 5352, loss: 0.002931, speed: 4.10 step/s\n",
      "epoch: 1 / 2, steps: 5348 / 5352, loss: 0.002792, speed: 4.10 step/s\n",
      "epoch time footprint: 0 hour 23 min 0 sec\n",
      "\n",
      "=====start evaluating last ckpt of 10704 steps=====\n"
     ]
    },
    {
     "name": "stderr",
     "output_type": "stream",
     "text": [
      "100%|██████████| 646/646 [01:01<00:00, 10.49it/s]\n"
     ]
    },
    {
     "name": "stdout",
     "output_type": "stream",
     "text": [
      "eval loss: 0.002419\n",
      "precision: 65.55\t recall: 57.22\t f1: 61.10\t\n",
      "\n",
      "=====training complete=====\n"
     ]
    }
   ],
   "source": [
    "import time\n",
    "import paddle.nn.functional as F\n",
    "\n",
    "# Starts training.\n",
    "global_step = 0\n",
    "logging_steps = 50\n",
    "save_steps = 10000\n",
    "num_train_epochs = 2\n",
    "output_dir = 'checkpoints'\n",
    "tic_train = time.time()\n",
    "model.train()\n",
    "for epoch in range(num_train_epochs):\n",
    "    print(\"\\n=====start training of %d epochs=====\" % epoch)\n",
    "    tic_epoch = time.time()\n",
    "    for step, batch in enumerate(train_data_loader):\n",
    "        input_ids, seq_lens, tok_to_orig_start_index, tok_to_orig_end_index, labels = batch\n",
    "        logits = model(input_ids=input_ids)\n",
    "        mask = (input_ids != 0).logical_and((input_ids != 1)).logical_and(\n",
    "            (input_ids != 2))\n",
    "        loss = criterion(logits, labels, mask)\n",
    "        loss.backward()\n",
    "        optimizer.step()\n",
    "        lr_scheduler.step()\n",
    "        optimizer.clear_gradients()\n",
    "        loss_item = loss.numpy().item()\n",
    "\n",
    "        if global_step % logging_steps == 0:\n",
    "            print(\n",
    "                \"epoch: %d / %d, steps: %d / %d, loss: %f, speed: %.2f step/s\"\n",
    "                % (epoch, num_train_epochs, step, steps_by_epoch,\n",
    "                    loss_item, logging_steps / (time.time() - tic_train)))\n",
    "            tic_train = time.time()\n",
    "\n",
    "        if global_step % save_steps == 0 and global_step != 0:\n",
    "            print(\"\\n=====start evaluating ckpt of %d steps=====\" %\n",
    "                    global_step)\n",
    "            precision, recall, f1 = evaluate(\n",
    "                model, criterion, test_data_loader, eval_file_path, \"eval\")\n",
    "            print(\"precision: %.2f\\t recall: %.2f\\t f1: %.2f\\t\" %\n",
    "                    (100 * precision, 100 * recall, 100 * f1))\n",
    "            print(\"saving checkpoing model_%d.pdparams to %s \" %\n",
    "                    (global_step, output_dir))\n",
    "            paddle.save(model.state_dict(),\n",
    "                        os.path.join(output_dir, \n",
    "                                        \"model_%d.pdparams\" % global_step))\n",
    "            model.train()\n",
    "\n",
    "        global_step += 1\n",
    "    tic_epoch = time.time() - tic_epoch\n",
    "    print(\"epoch time footprint: %d hour %d min %d sec\" %\n",
    "            (tic_epoch // 3600, (tic_epoch % 3600) // 60, tic_epoch % 60))\n",
    "\n",
    "# Does final evaluation.\n",
    "print(\"\\n=====start evaluating last ckpt of %d steps=====\" %\n",
    "        global_step)\n",
    "precision, recall, f1 = evaluate(model, criterion, test_data_loader,\n",
    "                                    eval_file_path, \"eval\")\n",
    "print(\"precision: %.2f\\t recall: %.2f\\t f1: %.2f\\t\" %\n",
    "        (100 * precision, 100 * recall, 100 * f1))\n",
    "paddle.save(model.state_dict(),\n",
    "            os.path.join(output_dir,\n",
    "                            \"model_%d.pdparams\" % global_step))\n",
    "print(\"\\n=====training complete=====\")"
   ]
  },
  {
   "cell_type": "code",
   "execution_count": 2,
   "metadata": {
    "collapsed": false
   },
   "outputs": [
    {
     "name": "stdout",
     "output_type": "stream",
     "text": [
      "+ export CUDA_VISIBLE_DEVICES=0\n",
      "+ CUDA_VISIBLE_DEVICES=0\n",
      "+ export BATCH_SIZE=8\n",
      "+ BATCH_SIZE=8\n",
      "+ export CKPT=./checkpoints/model_10704.pdparams\n",
      "+ CKPT=./checkpoints/model_10704.pdparams\n",
      "+ export DATASET_FILE=./data/test.json\n",
      "+ DATASET_FILE=./data/test.json\n",
      "+ python run_duie.py --do_predict --init_checkpoint ./checkpoints/model_10704.pdparams --predict_data_file ./data/test.json --max_seq_length 128 --batch_size 8\n",
      "\u001b[32m[2021-06-15 16:21:29,320] [    INFO]\u001b[0m - Already cached /home/aistudio/.paddlenlp/models/ernie-1.0/ernie_v1_chn_base.pdparams\u001b[0m\n",
      "W0615 16:21:29.322165  2340 device_context.cc:404] Please NOTE: device: 0, GPU Compute Capability: 7.0, Driver API Version: 10.1, Runtime API Version: 10.1\n",
      "W0615 16:21:29.327446  2340 device_context.cc:422] device: 0, cuDNN Version: 7.6.\n",
      "/opt/conda/envs/python35-paddle120-env/lib/python3.7/site-packages/paddle/fluid/dygraph/layers.py:1297: UserWarning: Skip loading for classifier.weight. classifier.weight is not found in the provided dict.\n",
      "  warnings.warn((\"Skip loading for {}. \".format(key) + str(err)))\n",
      "/opt/conda/envs/python35-paddle120-env/lib/python3.7/site-packages/paddle/fluid/dygraph/layers.py:1297: UserWarning: Skip loading for classifier.bias. classifier.bias is not found in the provided dict.\n",
      "  warnings.warn((\"Skip loading for {}. \".format(key) + str(err)))\n",
      "\u001b[32m[2021-06-15 16:21:36,791] [    INFO]\u001b[0m - Found /home/aistudio/.paddlenlp/models/ernie-1.0/vocab.txt\u001b[0m\n",
      "\u001b[32m[2021-06-15 16:21:36,924] [    INFO]\u001b[0m - Preprocessing data, loaded from ./data/test.json\u001b[0m\n",
      "100%|██████████████████████████████████| 101311/101311 [02:48<00:00, 601.95it/s]\n",
      "\n",
      "=====start predicting=====\n",
      "100%|█████████████████████████████████████| 12663/12663 [06:37<00:00, 31.85it/s]\n",
      "eval loss: 0.051248\n",
      "=====predicting complete=====\n",
      "\u001b[0m"
     ]
    }
   ],
   "source": [
    "!bash predict.sh"
   ]
  },
  {
   "cell_type": "markdown",
   "metadata": {
    "collapsed": false
   },
   "source": [
    "预测结果会被保存在data/predictions.json，data/predictions.json.zip，其格式与原数据集文件一致。\n",
    "\n",
    "之后可以使用官方评估脚本评估训练模型在dev_data.json上的效果。如：\n",
    "\n",
    "```shell\n",
    "python re_official_evaluation.py --golden_file=dev_data.json  --predict_file=predicitons.json.zip [--alias_file alias_dict]\n",
    "```\n",
    "输出指标为Precision, Recall 和 F1，Alias file包含了合法的实体别名，最终评测的时候会使用，这里不予提供。\n",
    "\n",
    "之后在test_data.json上预测，然后预测结果（.zip文件）至[千言评测页面](https://aistudio.baidu.com/aistudio/competition/detail/46)。\n",
    "\n",
    "\n",
    "\n"
   ]
  },
  {
   "cell_type": "markdown",
   "metadata": {
    "collapsed": false
   },
   "source": [
    "\n",
    "## Tricks\n",
    "\n",
    "### 尝试更多的预训练模型\n",
    "\n",
    "基线采用的预训练模型为ERNIE，PaddleNLP提供了丰富的预训练模型，如BERT，RoBERTa，Electra，XLNet等\n",
    "参考[预训练模型文档](https://paddlenlp.readthedocs.io/zh/latest/model_zoo/transformers.html)\n",
    "\n",
    "如可以选择RoBERTa large中文模型优化模型效果，只需更换模型和tokenizer即可无缝衔接。"
   ]
  },
  {
   "cell_type": "code",
   "execution_count": null,
   "metadata": {
    "collapsed": false
   },
   "outputs": [],
   "source": [
    "from paddlenlp.transformers import RobertaForTokenClassification, RobertaTokenizer\n",
    "\n",
    "model = RobertaForTokenClassification.from_pretrained(\n",
    "    \"roberta-wwm-ext-large\",\n",
    "    num_classes=(len(label_map) - 2) * 2 + 2)\n",
    "tokenizer = RobertaTokenizer.from_pretrained(\"roberta-wwm-ext-large\")"
   ]
  },
  {
   "cell_type": "markdown",
   "metadata": {
    "collapsed": false
   },
   "source": [
    "### 模型集成\n",
    "\n",
    "使用多个模型进行训练预测，将各个模型预测结果进行融合。"
   ]
  },
  {
   "cell_type": "markdown",
   "metadata": {
    "collapsed": false
   },
   "source": [
    "以上基线实现基于PaddleNLP，开源不易，希望大家多多支持~ \n",
    "**记得给[PaddleNLP](https://github.com/PaddlePaddle/PaddleNLP)点个小小的Star⭐，及时跟踪最新消息和功能哦**\n",
    "\n",
    "GitHub地址：[https://github.com/PaddlePaddle/PaddleNLP](https://github.com/PaddlePaddle/PaddleNLP)\n"
   ]
  }
 ],
 "metadata": {
  "kernelspec": {
   "display_name": "PaddlePaddle 2.1.0 (Python 3.5)",
   "language": "python",
   "name": "py35-paddle1.2.0"
  },
  "language_info": {
   "codemirror_mode": {
    "name": "ipython",
    "version": 3
   },
   "file_extension": ".py",
   "mimetype": "text/x-python",
   "name": "python",
   "nbconvert_exporter": "python",
   "pygments_lexer": "ipython3",
   "version": "3.7.4"
  }
 },
 "nbformat": 4,
 "nbformat_minor": 1
}
